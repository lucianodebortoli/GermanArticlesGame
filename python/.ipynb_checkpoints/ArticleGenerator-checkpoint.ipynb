{
 "cells": [
  {
   "cell_type": "code",
   "execution_count": 1,
   "metadata": {},
   "outputs": [],
   "source": [
    "import pandas as pd\n",
    "from pathlib import Path"
   ]
  },
  {
   "cell_type": "code",
   "execution_count": 2,
   "metadata": {},
   "outputs": [],
   "source": [
    "source_dir = \"source\"\n",
    "source_files = [file for file in Path(source_dir).glob(\"*.txt\")]"
   ]
  },
  {
   "cell_type": "code",
   "execution_count": 3,
   "metadata": {},
   "outputs": [],
   "source": [
    "# read texts\n",
    "all_texts = []\n",
    "for source_file in source_files:\n",
    "    with open(source_file, \"r\") as text_file:\n",
    "        all_texts.append(text_file.readlines())"
   ]
  },
  {
   "cell_type": "code",
   "execution_count": 4,
   "metadata": {},
   "outputs": [],
   "source": [
    "articles = [\"der\", \"die\", \"das\", \"den\", \"dem\"]"
   ]
  },
  {
   "cell_type": "code",
   "execution_count": 5,
   "metadata": {},
   "outputs": [],
   "source": [
    "unwanted_chars = ['\"', ',', '.', ':',\"»\", '«', \"_\", \")\", \"(\",\"?\"]\n",
    "\n",
    "target_lines = []\n",
    "for each_text in all_texts:\n",
    "    for each_line in each_text:\n",
    "        words = each_line.split()\n",
    "        for index, word in enumerate(words):\n",
    "            if word in articles:\n",
    "                entry = {}\n",
    "                next_index = words.index(word)+1\n",
    "                if next_index < len(words):  \n",
    "                    noun = words[next_index]\n",
    "                    for char in unwanted_chars:\n",
    "                        noun = noun.replace(char,\"\")\n",
    "                    entry[\"article\"] = word\n",
    "                    entry[\"noun\"] = noun\n",
    "                    target_lines.append(entry)"
   ]
  },
  {
   "cell_type": "code",
   "execution_count": 6,
   "metadata": {},
   "outputs": [],
   "source": [
    "df = pd.DataFrame(target_lines)\n",
    "df.drop_duplicates(inplace=True)"
   ]
  },
  {
   "cell_type": "code",
   "execution_count": 7,
   "metadata": {},
   "outputs": [],
   "source": [
    "df[\"index\"] = list(range(len(df)))\n",
    "df.index = df[\"index\"]\n",
    "df = df.drop(\"index\", axis=1)"
   ]
  },
  {
   "cell_type": "code",
   "execution_count": 8,
   "metadata": {},
   "outputs": [],
   "source": [
    "df.to_csv(\"output/data.csv\")"
   ]
  }
 ],
 "metadata": {
  "kernelspec": {
   "display_name": "Python 3",
   "language": "python",
   "name": "python3"
  },
  "language_info": {
   "codemirror_mode": {
    "name": "ipython",
    "version": 3
   },
   "file_extension": ".py",
   "mimetype": "text/x-python",
   "name": "python",
   "nbconvert_exporter": "python",
   "pygments_lexer": "ipython3",
   "version": "3.7.7"
  }
 },
 "nbformat": 4,
 "nbformat_minor": 4
}
