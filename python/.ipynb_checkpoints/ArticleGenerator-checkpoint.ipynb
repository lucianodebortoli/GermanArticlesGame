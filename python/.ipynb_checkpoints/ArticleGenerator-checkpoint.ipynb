{
 "cells": [
  {
   "cell_type": "code",
   "execution_count": 1,
   "metadata": {},
   "outputs": [],
   "source": [
    "import pandas as pd\n",
    "from pathlib import Path"
   ]
  },
  {
   "cell_type": "code",
   "execution_count": 2,
   "metadata": {},
   "outputs": [],
   "source": [
    "def capitalize(df):\n",
    "    for column in df.columns:\n",
    "        df[column] = df[column].str.title()\n",
    "    return df"
   ]
  },
  {
   "cell_type": "markdown",
   "metadata": {},
   "source": [
    "## Extract Articles from Books"
   ]
  },
  {
   "cell_type": "code",
   "execution_count": 3,
   "metadata": {},
   "outputs": [],
   "source": [
    "def generate_database_from_books():\n",
    "    source_dir = \"source\"\n",
    "    source_files = [file for file in Path(source_dir).glob(\"*.txt\")]\n",
    "\n",
    "    # read texts\n",
    "    all_texts = []\n",
    "    for source_file in source_files:\n",
    "        with open(source_file, \"r\") as text_file:\n",
    "            all_texts.append(text_file.readlines())\n",
    "\n",
    "    articles = [\"der\", \"die\", \"das\", \"den\", \"dem\"]\n",
    "\n",
    "    unwanted_chars = ['\"', ',', '.', ':',\"»\", '«', \"_\", \")\", \"(\",\"?\"]\n",
    "\n",
    "    target_lines = []\n",
    "    for each_text in all_texts:\n",
    "        for each_line in each_text:\n",
    "            words = each_line.split()\n",
    "            for index, word in enumerate(words):\n",
    "                if word in articles:\n",
    "                    entry = {}\n",
    "                    next_index = words.index(word)+1\n",
    "                    if next_index < len(words):  \n",
    "                        noun = words[next_index]\n",
    "                        for char in unwanted_chars:\n",
    "                            noun = noun.replace(char,\"\")\n",
    "                        entry[\"article\"] = word\n",
    "                        entry[\"noun\"] = noun\n",
    "                        target_lines.append(entry)\n",
    "\n",
    "    df = pd.DataFrame(target_lines)\n",
    "    df.drop_duplicates(inplace=True)\n",
    "\n",
    "    df[\"index\"] = list(range(len(df)))\n",
    "    df.index = df[\"index\"]\n",
    "    df = df.drop(\"index\", axis=1)\n",
    "\n",
    "    df = capitalize(df)\n",
    "    df.to_csv(\"output/data.csv\")\n",
    "    return df"
   ]
  },
  {
   "cell_type": "code",
   "execution_count": 4,
   "metadata": {},
   "outputs": [
    {
     "data": {
      "text/plain": [
       "Index(['article', 'noun'], dtype='object')"
      ]
     },
     "execution_count": 4,
     "metadata": {},
     "output_type": "execute_result"
    }
   ],
   "source": [
    "generate_database_from_books().columns"
   ]
  },
  {
   "cell_type": "markdown",
   "metadata": {},
   "source": [
    "# Extract Articles from  Frequency"
   ]
  },
  {
   "cell_type": "code",
   "execution_count": 5,
   "metadata": {},
   "outputs": [],
   "source": [
    "def generate_dataframe_from_frequency():\n",
    "    source_file = \"source/frequent_nouns.txt\"\n",
    "    with open(source_file, \"r\") as text_file:\n",
    "        lines = text_file.readlines()\n",
    "\n",
    "    data = []\n",
    "    for line in lines:   \n",
    "        dash_split = line.split(\"–\") \n",
    "        eng = dash_split[0].split(\".\")[1]\n",
    "        split = (dash_split[1].split(\"\\n\")[0].split(\" \"))[1:3]\n",
    "        article = split[0]\n",
    "        if len(split)!=2:\n",
    "            continue\n",
    "        noun = split[1]\n",
    "        data.append([eng, article, noun])\n",
    "\n",
    "    df = pd.DataFrame(data)\n",
    "\n",
    "    df.rename(columns = {0:'Translation', 1:'Article', 2:\"Noun\"}, inplace = True) \n",
    "\n",
    "    articles = [\"Die\", \"Der\", \"Das\"]\n",
    "    df = df[df.Article.apply(lambda x:x in articles)]\n",
    "    df = df.reindex(columns=['Article', 'Noun',\"Translation\"])\n",
    "\n",
    "    df = capitalize(df)\n",
    "    df.to_csv(\"output/data.csv\")\n",
    "    return df"
   ]
  },
  {
   "cell_type": "code",
   "execution_count": 6,
   "metadata": {},
   "outputs": [
    {
     "data": {
      "text/plain": [
       "Index(['Article', 'Noun', 'Translation'], dtype='object')"
      ]
     },
     "execution_count": 6,
     "metadata": {},
     "output_type": "execute_result"
    }
   ],
   "source": [
    "generate_dataframe_from_frequency().columns"
   ]
  },
  {
   "cell_type": "markdown",
   "metadata": {},
   "source": [
    "## Extract Articles from  A2"
   ]
  },
  {
   "cell_type": "code",
   "execution_count": 7,
   "metadata": {},
   "outputs": [],
   "source": [
    "def generate_dataframe_from_A2():\n",
    "    source_file = \"source/GermanArticlesDataset - A2.csv\"\n",
    "    df = pd.DataFrame(pd.read_csv(source_file))\n",
    "    df = df.reindex(columns=['Article', 'Noun',\"Translation\", \"Traducción\"])\n",
    "    df = capitalize(df)\n",
    "    df.to_csv(\"output/data.csv\")\n",
    "    return df"
   ]
  },
  {
   "cell_type": "code",
   "execution_count": 10,
   "metadata": {},
   "outputs": [
    {
     "data": {
      "text/html": [
       "<div>\n",
       "<style scoped>\n",
       "    .dataframe tbody tr th:only-of-type {\n",
       "        vertical-align: middle;\n",
       "    }\n",
       "\n",
       "    .dataframe tbody tr th {\n",
       "        vertical-align: top;\n",
       "    }\n",
       "\n",
       "    .dataframe thead th {\n",
       "        text-align: right;\n",
       "    }\n",
       "</style>\n",
       "<table border=\"1\" class=\"dataframe\">\n",
       "  <thead>\n",
       "    <tr style=\"text-align: right;\">\n",
       "      <th></th>\n",
       "      <th>Article</th>\n",
       "      <th>Noun</th>\n",
       "      <th>Translation</th>\n",
       "      <th>Traducción</th>\n",
       "    </tr>\n",
       "  </thead>\n",
       "  <tbody>\n",
       "    <tr>\n",
       "      <th>0</th>\n",
       "      <td>Die</td>\n",
       "      <td>Anrufbeantworter</td>\n",
       "      <td>Answering Machines</td>\n",
       "      <td>Contestadores</td>\n",
       "    </tr>\n",
       "    <tr>\n",
       "      <th>1</th>\n",
       "      <td>Die</td>\n",
       "      <td>Ansagen</td>\n",
       "      <td>Advertisements</td>\n",
       "      <td>Anuncios</td>\n",
       "    </tr>\n",
       "    <tr>\n",
       "      <th>2</th>\n",
       "      <td>Die</td>\n",
       "      <td>Anschlüsse</td>\n",
       "      <td>Connections</td>\n",
       "      <td>Conexiones</td>\n",
       "    </tr>\n",
       "    <tr>\n",
       "      <th>3</th>\n",
       "      <td>Die</td>\n",
       "      <td>Antworten</td>\n",
       "      <td>Answers</td>\n",
       "      <td>Respuestas</td>\n",
       "    </tr>\n",
       "    <tr>\n",
       "      <th>4</th>\n",
       "      <td>Die</td>\n",
       "      <td>Anzeigen</td>\n",
       "      <td>Advertisements</td>\n",
       "      <td>Anuncios</td>\n",
       "    </tr>\n",
       "    <tr>\n",
       "      <th>...</th>\n",
       "      <td>...</td>\n",
       "      <td>...</td>\n",
       "      <td>...</td>\n",
       "      <td>...</td>\n",
       "    </tr>\n",
       "    <tr>\n",
       "      <th>623</th>\n",
       "      <td>Die</td>\n",
       "      <td>Zeit</td>\n",
       "      <td>Weather</td>\n",
       "      <td>Tiempo</td>\n",
       "    </tr>\n",
       "    <tr>\n",
       "      <th>624</th>\n",
       "      <td>Die</td>\n",
       "      <td>Zeitschrift</td>\n",
       "      <td>Magazine</td>\n",
       "      <td>Revista</td>\n",
       "    </tr>\n",
       "    <tr>\n",
       "      <th>625</th>\n",
       "      <td>Die</td>\n",
       "      <td>Zeitung</td>\n",
       "      <td>Newspaper</td>\n",
       "      <td>Periódico</td>\n",
       "    </tr>\n",
       "    <tr>\n",
       "      <th>626</th>\n",
       "      <td>Die</td>\n",
       "      <td>Zigarette</td>\n",
       "      <td>Cigarette</td>\n",
       "      <td>Cigarillo</td>\n",
       "    </tr>\n",
       "    <tr>\n",
       "      <th>627</th>\n",
       "      <td>Die</td>\n",
       "      <td>Zitrone</td>\n",
       "      <td>Lemon</td>\n",
       "      <td>Limón</td>\n",
       "    </tr>\n",
       "  </tbody>\n",
       "</table>\n",
       "<p>628 rows × 4 columns</p>\n",
       "</div>"
      ],
      "text/plain": [
       "    Article              Noun         Translation     Traducción\n",
       "0       Die  Anrufbeantworter  Answering Machines  Contestadores\n",
       "1       Die           Ansagen      Advertisements       Anuncios\n",
       "2       Die        Anschlüsse         Connections     Conexiones\n",
       "3       Die         Antworten             Answers     Respuestas\n",
       "4       Die          Anzeigen      Advertisements       Anuncios\n",
       "..      ...               ...                 ...            ...\n",
       "623     Die              Zeit             Weather         Tiempo\n",
       "624     Die       Zeitschrift            Magazine        Revista\n",
       "625     Die           Zeitung           Newspaper      Periódico\n",
       "626     Die         Zigarette           Cigarette      Cigarillo\n",
       "627     Die           Zitrone               Lemon          Limón\n",
       "\n",
       "[628 rows x 4 columns]"
      ]
     },
     "execution_count": 10,
     "metadata": {},
     "output_type": "execute_result"
    }
   ],
   "source": [
    "generate_dataframe_from_A2()"
   ]
  }
 ],
 "metadata": {
  "kernelspec": {
   "display_name": "Python 3",
   "language": "python",
   "name": "python3"
  },
  "language_info": {
   "codemirror_mode": {
    "name": "ipython",
    "version": 3
   },
   "file_extension": ".py",
   "mimetype": "text/x-python",
   "name": "python",
   "nbconvert_exporter": "python",
   "pygments_lexer": "ipython3",
   "version": "3.7.7"
  }
 },
 "nbformat": 4,
 "nbformat_minor": 4
}
